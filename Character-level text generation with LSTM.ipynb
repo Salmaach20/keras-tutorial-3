{
 "cells": [
  {
   "cell_type": "markdown",
   "id": "86d2b0d2",
   "metadata": {},
   "source": [
    "### from tensorflow import keras\n"
   ]
  },
  {
   "cell_type": "code",
   "execution_count": 3,
   "id": "5ea7afe7",
   "metadata": {},
   "outputs": [],
   "source": [
    "from tensorflow.keras import layers\n",
    "import keras\n",
    "import numpy as np\n",
    "import random\n",
    "import io"
   ]
  },
  {
   "cell_type": "markdown",
   "id": "09b0f170",
   "metadata": {},
   "source": [
    "### Prepare the data\n"
   ]
  },
  {
   "cell_type": "code",
   "execution_count": 4,
   "id": "75190235",
   "metadata": {},
   "outputs": [
    {
     "name": "stdout",
     "output_type": "stream",
     "text": [
      "Downloading data from https://s3.amazonaws.com/text-datasets/nietzsche.txt\n",
      "600901/600901 [==============================] - 28s 47us/step\n",
      "Corpus length: 600893\n",
      "Total chars: 56\n",
      "Number of sequences: 200285\n"
     ]
    },
    {
     "name": "stderr",
     "output_type": "stream",
     "text": [
      "C:\\Users\\salma\\AppData\\Local\\Temp\\ipykernel_9824\\1178333198.py:24: DeprecationWarning: `np.bool` is a deprecated alias for the builtin `bool`. To silence this warning, use `bool` by itself. Doing this will not modify any behavior and is safe. If you specifically wanted the numpy scalar type, use `np.bool_` here.\n",
      "Deprecated in NumPy 1.20; for more details and guidance: https://numpy.org/devdocs/release/1.20.0-notes.html#deprecations\n",
      "  x = np.zeros((len(sentences), maxlen, len(chars)), dtype=np.bool)\n",
      "C:\\Users\\salma\\AppData\\Local\\Temp\\ipykernel_9824\\1178333198.py:25: DeprecationWarning: `np.bool` is a deprecated alias for the builtin `bool`. To silence this warning, use `bool` by itself. Doing this will not modify any behavior and is safe. If you specifically wanted the numpy scalar type, use `np.bool_` here.\n",
      "Deprecated in NumPy 1.20; for more details and guidance: https://numpy.org/devdocs/release/1.20.0-notes.html#deprecations\n",
      "  y = np.zeros((len(sentences), len(chars)), dtype=np.bool)\n"
     ]
    }
   ],
   "source": [
    "path = keras.utils.get_file(\n",
    "    \"nietzsche.txt\", origin=\"https://s3.amazonaws.com/text-datasets/nietzsche.txt\"\n",
    ")\n",
    "with io.open(path, encoding=\"utf-8\") as f:\n",
    "    text = f.read().lower()\n",
    "text = text.replace(\"\\n\", \" \")  # We remove newlines chars for nicer display\n",
    "print(\"Corpus length:\", len(text))\n",
    "\n",
    "chars = sorted(list(set(text)))\n",
    "print(\"Total chars:\", len(chars))\n",
    "char_indices = dict((c, i) for i, c in enumerate(chars))\n",
    "indices_char = dict((i, c) for i, c in enumerate(chars))\n",
    "\n",
    "# cut the text in semi-redundant sequences of maxlen characters\n",
    "maxlen = 40\n",
    "step = 3\n",
    "sentences = []\n",
    "next_chars = []\n",
    "for i in range(0, len(text) - maxlen, step):\n",
    "    sentences.append(text[i : i + maxlen])\n",
    "    next_chars.append(text[i + maxlen])\n",
    "print(\"Number of sequences:\", len(sentences))\n",
    "\n",
    "x = np.zeros((len(sentences), maxlen, len(chars)), dtype=np.bool)\n",
    "y = np.zeros((len(sentences), len(chars)), dtype=np.bool)\n",
    "for i, sentence in enumerate(sentences):\n",
    "    for t, char in enumerate(sentence):\n",
    "        x[i, t, char_indices[char]] = 1\n",
    "    y[i, char_indices[next_chars[i]]] = 1"
   ]
  },
  {
   "cell_type": "markdown",
   "id": "c19bcf97",
   "metadata": {},
   "source": [
    "### Build the model: a single LSTM layer"
   ]
  },
  {
   "cell_type": "code",
   "execution_count": 5,
   "id": "07abeb7f",
   "metadata": {},
   "outputs": [],
   "source": [
    "model = keras.Sequential(\n",
    "    [\n",
    "        keras.Input(shape=(maxlen, len(chars))),\n",
    "        layers.LSTM(128),\n",
    "        layers.Dense(len(chars), activation=\"softmax\"),\n",
    "    ]\n",
    ")\n",
    "optimizer = keras.optimizers.RMSprop(learning_rate=0.01)\n",
    "model.compile(loss=\"categorical_crossentropy\", optimizer=optimizer)"
   ]
  },
  {
   "cell_type": "markdown",
   "id": "0d83ddc4",
   "metadata": {},
   "source": [
    "### Prepare the text sampling function"
   ]
  },
  {
   "cell_type": "code",
   "execution_count": 6,
   "id": "1f12d998",
   "metadata": {},
   "outputs": [],
   "source": [
    "def sample(preds, temperature=1.0):\n",
    "    # helper function to sample an index from a probability array\n",
    "    preds = np.asarray(preds).astype(\"float64\")\n",
    "    preds = np.log(preds) / temperature\n",
    "    exp_preds = np.exp(preds)\n",
    "    preds = exp_preds / np.sum(exp_preds)\n",
    "    probas = np.random.multinomial(1, preds, 1)\n",
    "    return np.argmax(probas)"
   ]
  },
  {
   "cell_type": "markdown",
   "id": "07fbc606",
   "metadata": {},
   "source": [
    "### Train the model"
   ]
  },
  {
   "cell_type": "code",
   "execution_count": null,
   "id": "0d43220a",
   "metadata": {},
   "outputs": [
    {
     "name": "stdout",
     "output_type": "stream",
     "text": [
      "1565/1565 [==============================] - 128s 80ms/step - loss: 1.9303\n",
      "\n",
      "Generating text after epoch: 0\n",
      "...Diversity: 0.2\n",
      "...Generating with seed: \"artially, not wholly.=--the specialized,\"\n",
      "...Generated:   and the propention and the infleection and the problem of the propention and and any in the deperions, and and and and well and the propentions and the procially and an and and and and in the propention and any the sentions and and and and and in the pressing in the presention of the pressions and and and the propentation and the into the in the processions of the individual to the stand the well\n",
      "\n",
      "...Diversity: 0.5\n",
      "...Generating with seed: \"artially, not wholly.=--the specialized,\"\n",
      "...Generated:   and the procial the ingles his to the interpitary condikent and restaining and the precision and the songenting and and and incorvate and the good of the first is in shit, will as subelucisn and also the most constinule to the pronsist and the planse, and the  as an any is and man and abtursting to the hortice an in precisions, as and distrust of him and all the into the stringeest, and us, will \n",
      "\n",
      "...Diversity: 1.0\n",
      "...Generating with seed: \"artially, not wholly.=--the specialized,\"\n",
      "...Generated:   man allaindble for the trubtelative 3rove efuchingt, and mantelf ancruse as is nehes of a rogght atheme or bytes tom ever as which rebaduest, and de amminms apperally  if the grotitthor, in even to percosiased:--if, all such in suct me happles, of inveroul, and ple1\"iss:--alus sesfect not to the tigedentelem,                he erlence and eghing in, these has to thr knounvist stand thas world fir\n",
      "\n",
      "...Diversity: 1.2\n",
      "...Generating with seed: \"artially, not wholly.=--the specialized,\"\n",
      "...Generated:   and the ighiscish of sucrouss no just is towful, e has necised of himself tome scause un . wishlinghangs, that neler, ers happeates--in the grodn1zays , yuther o the antlowtiality, about moral gremstiminate intherecklen-men all seccaininy, and the origat otiminge; =then peap\" one xade let all to unapassity abouthnenting, as alout is xuptlucpial rord obly the despectiolly neut isssfruccemen. and e\n",
      "\n",
      "1565/1565 [==============================] - 133s 85ms/step - loss: 1.5708\n",
      "\n",
      "Generating text after epoch: 1\n",
      "...Diversity: 0.2\n",
      "...Generating with seed: \"s appearing who feels himself strong eno\"\n",
      "...Generated:  ugh and the some propentical interpre the surmoral to the conserted the suffering of the suffering and the seesing the self-contrained in the moral of the propry of the suffering in the so the moral contraition and and and the serve of the interpre the surrentions and and the suffering and the surmoral and the self-contraitions and the disciven and and the self-contraitions and the construent of t\n",
      "\n",
      "...Diversity: 0.5\n",
      "...Generating with seed: \"s appearing who feels himself strong eno\"\n",
      "...Generated:  ugh the order and and the surnon of the comparity of the religion for instinction of the most the power of an interpres of the power of the surpositions.   24  =dread in all the possible and the this painful god to the moral and also in the believe, constraitive and the same to the soul of the conserted and the the consective we preserve of the endimal the person to a first he deep and apparing so\n",
      "\n",
      "...Diversity: 1.0\n",
      "...Generating with seed: \"s appearing who feels himself strong eno\"\n",
      "...Generated:  rgow are indeed \"foothing, and with ecysuses of didifice it is flow much reprdence in reperion under the drove with the intore, in atten hold-pangentically in re, the lest estingnen yousnef have projo proupting suffact noina=isndigh s\"elf initisthe in the dipring great withincenture, the decuse lick been love: incomprycomly distrust, in the other inference\" who earon in the ridiclaves and the chir\n",
      "\n",
      "...Diversity: 1.2\n",
      "...Generating with seed: \"s appearing who feels himself strong eno\"\n",
      "...Generated:  ugh, eve o-coure, is knows?--a too every, fay lfo yet pard madelic kinds; him incrufialogy. thos desidre?--with its morality. love just im\"sandable of reponsiuatent of symbers, without of doptwever, bacyeby. proglous? the suffecior estitivationsainected--it at trusan malwably moralogegs rogicatiblly incentenicalividcy that a timinaly to thus everything no mades questionity camm and wises the on mi\n",
      "\n",
      "1565/1565 [==============================] - 129s 82ms/step - loss: 1.4818\n",
      "\n",
      "Generating text after epoch: 2\n",
      "...Diversity: 0.2\n",
      "...Generating with seed: \"which literary europe has upon its consc\"\n",
      "...Generated:  ious that the existence the world that the senses of the present and the present and antisting the servent the true the world to the thing the senses of the same there is a conduct and the present and consequent to the world to the sight and antithess of the world to the thing that the senses of the higher the states of the moral the stranger that the world the philosopher and the senses of the se\n",
      "\n",
      "...Diversity: 0.5\n",
      "...Generating with seed: \"which literary europe has upon its consc\"\n",
      "...Generated:  ious himself and what the state of the word that the world comparentic should be interprete that men and bad and itself in the castes of the interprete that the higher for the new unourage the demon in the exultion with a new something that the appear and own constance and an endimality things a moral has a which the virtues, and compultion and the morality in a lifes in the man eventianists and s\n",
      "\n",
      "...Diversity: 1.0\n",
      "...Generating with seed: \"which literary europe has upon its consc\"\n",
      "...Generated:  iomant in mouned and morals supsovition, word that we clopent itself on the mare supersance \"called be of slave aprefimaned contrad to certain can therelieve individuals epiled in a? not he from antistolous first and and it! this which what frangs sourg of upon that regardd will nor fuing of so their doing who will a tham the retertters.--ascruses tokok hence detiors and antifience man want all ef\n",
      "\n",
      "...Diversity: 1.2\n",
      "...Generating with seed: \"which literary europe has upon its consc\"\n",
      "...Generated:  rusion and head in hard, tho simours entirism.  1c1y the wor doing in entifily evolf. threet is might, aeso, that slesp a ane,\".--kincising a systhobss: op say-, iadicgusing cathion antites that--inteweal distracted enderubak bodne\" of phinosence with at agalsi, his they about tore, this sanl himgube, this far of comcondivies is an that man in beann of deliciogoves in even enderman, sustrauoes is \n",
      "\n",
      "1565/1565 [==============================] - 152s 97ms/step - loss: 1.4350\n",
      "\n",
      "Generating text after epoch: 3\n",
      "...Diversity: 0.2\n",
      "...Generating with seed: \"ust he say despairingly to himself: \"a s\"\n",
      "...Generated:  elf-sures of the endically in the also, the struct of the problems of the self-such and interpretation of the problems of religion of the self-subelies and more the strange in the self-sures of the strange of the such and the endically of the religious and all the problems of the problems of the reality of the problems of the problems of the self-such and interpretations of the soul and problems o\n",
      "\n",
      "...Diversity: 0.5\n",
      "...Generating with seed: \"ust he say despairingly to himself: \"a s\"\n",
      "...Generated:  uch a new the far great the good of the structnor of whom the willity of all the interpet that as the possible problems which for the pleasure to the end of the close the former a philosopher of man in the conscient the proteslity that it is the world are because of which a philosopher which our belief itself the men to the possible. have intention and be and the fexily of the consequent progod th\n",
      "\n",
      "...Diversity: 1.0\n",
      "...Generating with seed: \"ust he say despairingly to himself: \"a s\"\n",
      "...Generated:  trigation of motaknys domeait of once many dignoutly, with history rarilated, exknotaction itself, ares, respive, believing of which desposess in self possible instinct, the oneminl from life farliess of all prisoffenction of resplecesly we howhing recompals lew, rebreasion ansight that that which plechance laugesforning, as earse intolelyle concept have has stslond decided as which, who has med i\n",
      "\n",
      "...Diversity: 1.2\n",
      "...Generating with seed: \"ust he say despairingly to himself: \"a s\"\n",
      "...Generated:  impleditorsi\"-mormisiat, whose syess, efneciust of wished dealteffilise of jengest to be -the retall of life things. bygreligion of well the vorie and as remiement, thereliesisaol, for that they htating untain, consequent to much. forcerness, has livess but fitter, in the panci-pnesses himself himyert, est abstruction must bevoureweliers. this consequineson, let ther.gomes; but psises, thoushts, p\n",
      "\n"
     ]
    },
    {
     "name": "stdout",
     "output_type": "stream",
     "text": [
      "1565/1565 [==============================] - 132s 85ms/step - loss: 1.4061\n",
      "\n",
      "Generating text after epoch: 4\n",
      "...Diversity: 0.2\n",
      "...Generating with seed: \" counter-reckoning against such religion\"\n"
     ]
    }
   ],
   "source": [
    "epochs = 40\n",
    "batch_size = 128\n",
    "\n",
    "for epoch in range(epochs):\n",
    "    model.fit(x, y, batch_size=batch_size, epochs=1)\n",
    "    print()\n",
    "    print(\"Generating text after epoch: %d\" % epoch)\n",
    "\n",
    "    start_index = random.randint(0, len(text) - maxlen - 1)\n",
    "    for diversity in [0.2, 0.5, 1.0, 1.2]:\n",
    "        print(\"...Diversity:\", diversity)\n",
    "\n",
    "        generated = \"\"\n",
    "        sentence = text[start_index : start_index + maxlen]\n",
    "        print('...Generating with seed: \"' + sentence + '\"')\n",
    "\n",
    "        for i in range(400):\n",
    "            x_pred = np.zeros((1, maxlen, len(chars)))\n",
    "            for t, char in enumerate(sentence):\n",
    "                x_pred[0, t, char_indices[char]] = 1.0\n",
    "            preds = model.predict(x_pred, verbose=0)[0]\n",
    "            next_index = sample(preds, diversity)\n",
    "            next_char = indices_char[next_index]\n",
    "            sentence = sentence[1:] + next_char\n",
    "            generated += next_char\n",
    "\n",
    "        print(\"...Generated: \", generated)\n",
    "        print()"
   ]
  },
  {
   "cell_type": "code",
   "execution_count": null,
   "id": "f974f413",
   "metadata": {},
   "outputs": [],
   "source": []
  }
 ],
 "metadata": {
  "kernelspec": {
   "display_name": "Python 3 (ipykernel)",
   "language": "python",
   "name": "python3"
  },
  "language_info": {
   "codemirror_mode": {
    "name": "ipython",
    "version": 3
   },
   "file_extension": ".py",
   "mimetype": "text/x-python",
   "name": "python",
   "nbconvert_exporter": "python",
   "pygments_lexer": "ipython3",
   "version": "3.10.6"
  }
 },
 "nbformat": 4,
 "nbformat_minor": 5
}
